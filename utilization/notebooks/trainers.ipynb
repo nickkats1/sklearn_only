{
 "cells": [
  {
   "cell_type": "code",
   "execution_count": 1,
   "id": "3250fccf",
   "metadata": {},
   "outputs": [
    {
     "name": "stdout",
     "output_type": "stream",
     "text": [
      "[2025-10-10 18:00:03,636: DEBUG: cmd: Popen(['git', 'version'], cwd=/home/nickkats1/sklearn_only/utilization, stdin=None, shell=False, universal_newlines=False)]\n",
      "[2025-10-10 18:00:03,638: DEBUG: cmd: Popen(['git', 'version'], cwd=/home/nickkats1/sklearn_only/utilization, stdin=None, shell=False, universal_newlines=False)]\n",
      "[2025-10-10 18:00:03,641: DEBUG: util: sys.platform='linux', git_executable='git']\n",
      "[2025-10-10 18:00:03,642: DEBUG: cmd: Popen(['git', 'check-ignore', '/home/nickkats1/sklearn_only/utilization/venv/lib/python3.12/site-packages'], cwd=/home/nickkats1/sklearn_only, stdin=None, shell=False, universal_newlines=False)]\n"
     ]
    },
    {
     "name": "stderr",
     "output_type": "stream",
     "text": [
      "2025/10/10 18:00:03 WARNING mlflow.models.model: `artifact_path` is deprecated. Please use `name` instead.\n",
      "2025/10/10 18:00:03 WARNING mlflow.sklearn: Model was missing function: predict. Not logging python_function flavor!\n"
     ]
    },
    {
     "name": "stdout",
     "output_type": "stream",
     "text": [
      "Model Name: Linear Regression\n",
      "R2 Score: 77.77\n",
      "Mean Squared Error: 0.0565\n",
      "[2025-10-10 18:00:03,756: DEBUG: connectionpool: https://api.mlflow-telemetry.io:443 \"POST /log HTTP/1.1\" 200 30]\n"
     ]
    },
    {
     "name": "stderr",
     "output_type": "stream",
     "text": [
      "\u001b[31m2025/10/10 18:00:05 WARNING mlflow.models.model: Model logged without a signature and input example. Please set `input_example` parameter when logging the model to auto infer the model signature.\u001b[0m\n",
      "2025/10/10 18:00:05 WARNING mlflow.models.model: `artifact_path` is deprecated. Please use `name` instead.\n",
      "2025/10/10 18:00:05 WARNING mlflow.sklearn: Model was missing function: predict. Not logging python_function flavor!\n"
     ]
    },
    {
     "name": "stdout",
     "output_type": "stream",
     "text": [
      "Model Name: Ridge Regressor\n",
      "R2 Score: 77.78\n",
      "Mean Squared Error: 0.0565\n"
     ]
    },
    {
     "name": "stderr",
     "output_type": "stream",
     "text": [
      "\u001b[31m2025/10/10 18:00:06 WARNING mlflow.models.model: Model logged without a signature and input example. Please set `input_example` parameter when logging the model to auto infer the model signature.\u001b[0m\n",
      "2025/10/10 18:00:06 WARNING mlflow.models.model: `artifact_path` is deprecated. Please use `name` instead.\n",
      "2025/10/10 18:00:06 WARNING mlflow.sklearn: Model was missing function: predict. Not logging python_function flavor!\n"
     ]
    },
    {
     "name": "stdout",
     "output_type": "stream",
     "text": [
      "Model Name: Lasso Regressor\n",
      "R2 Score: -6.07\n",
      "Mean Squared Error: 0.2697\n"
     ]
    },
    {
     "name": "stderr",
     "output_type": "stream",
     "text": [
      "\u001b[31m2025/10/10 18:00:07 WARNING mlflow.models.model: Model logged without a signature and input example. Please set `input_example` parameter when logging the model to auto infer the model signature.\u001b[0m\n",
      "/home/nickkats1/sklearn_only/utilization/venv/lib/python3.12/site-packages/sklearn/base.py:1365: DataConversionWarning: A column-vector y was passed when a 1d array was expected. Please change the shape of y to (n_samples,), for example using ravel().\n",
      "  return fit_method(estimator, *args, **kwargs)\n",
      "2025/10/10 18:00:08 WARNING mlflow.models.model: `artifact_path` is deprecated. Please use `name` instead.\n",
      "2025/10/10 18:00:08 WARNING mlflow.sklearn: Model was missing function: predict. Not logging python_function flavor!\n"
     ]
    },
    {
     "name": "stdout",
     "output_type": "stream",
     "text": [
      "Model Name: Random Forest Regressor\n",
      "R2 Score: 98.76\n",
      "Mean Squared Error: 0.0031\n"
     ]
    },
    {
     "name": "stderr",
     "output_type": "stream",
     "text": [
      "\u001b[31m2025/10/10 18:00:09 WARNING mlflow.models.model: Model logged without a signature and input example. Please set `input_example` parameter when logging the model to auto infer the model signature.\u001b[0m\n",
      "2025/10/10 18:00:09 WARNING mlflow.models.model: `artifact_path` is deprecated. Please use `name` instead.\n",
      "2025/10/10 18:00:09 WARNING mlflow.sklearn: Model was missing function: predict. Not logging python_function flavor!\n"
     ]
    },
    {
     "name": "stdout",
     "output_type": "stream",
     "text": [
      "Model Name: XGB Regressor\n",
      "R2 Score: 98.48\n",
      "Mean Squared Error: 0.0039\n"
     ]
    },
    {
     "name": "stderr",
     "output_type": "stream",
     "text": [
      "\u001b[31m2025/10/10 18:00:11 WARNING mlflow.models.model: Model logged without a signature and input example. Please set `input_example` parameter when logging the model to auto infer the model signature.\u001b[0m\n",
      "/home/nickkats1/sklearn_only/utilization/venv/lib/python3.12/site-packages/sklearn/utils/validation.py:1406: DataConversionWarning: A column-vector y was passed when a 1d array was expected. Please change the shape of y to (n_samples, ), for example using ravel().\n",
      "  y = column_or_1d(y, warn=True)\n",
      "2025/10/10 18:00:11 WARNING mlflow.models.model: `artifact_path` is deprecated. Please use `name` instead.\n",
      "2025/10/10 18:00:11 WARNING mlflow.sklearn: Model was missing function: predict. Not logging python_function flavor!\n"
     ]
    },
    {
     "name": "stdout",
     "output_type": "stream",
     "text": [
      "Model Name: SVM Regressor\n",
      "R2 Score: 87.97\n",
      "Mean Squared Error: 0.0306\n"
     ]
    },
    {
     "name": "stderr",
     "output_type": "stream",
     "text": [
      "\u001b[31m2025/10/10 18:00:12 WARNING mlflow.models.model: Model logged without a signature and input example. Please set `input_example` parameter when logging the model to auto infer the model signature.\u001b[0m\n",
      "/home/nickkats1/sklearn_only/utilization/venv/lib/python3.12/site-packages/sklearn/ensemble/_gb.py:672: DataConversionWarning: A column-vector y was passed when a 1d array was expected. Please change the shape of y to (n_samples, ), for example using ravel().\n",
      "  y = column_or_1d(y, warn=True)  # TODO: Is this still required?\n",
      "2025/10/10 18:00:12 WARNING mlflow.models.model: `artifact_path` is deprecated. Please use `name` instead.\n",
      "2025/10/10 18:00:12 WARNING mlflow.sklearn: Model was missing function: predict. Not logging python_function flavor!\n"
     ]
    },
    {
     "name": "stdout",
     "output_type": "stream",
     "text": [
      "Model Name: Gradient Boosting Regressor\n",
      "R2 Score: 98.70\n",
      "Mean Squared Error: 0.0033\n",
      "[2025-10-10 18:00:13,782: DEBUG: connectionpool: Starting new HTTPS connection (1): api.mlflow-telemetry.io:443]\n"
     ]
    },
    {
     "name": "stderr",
     "output_type": "stream",
     "text": [
      "\u001b[31m2025/10/10 18:00:14 WARNING mlflow.models.model: Model logged without a signature and input example. Please set `input_example` parameter when logging the model to auto infer the model signature.\u001b[0m\n"
     ]
    },
    {
     "name": "stdout",
     "output_type": "stream",
     "text": [
      "[2025-10-10 18:00:15,527: DEBUG: connectionpool: https://api.mlflow-telemetry.io:443 \"POST /log HTTP/1.1\" 200 30]\n",
      "[2025-10-10 18:00:24,586: DEBUG: connectionpool: Starting new HTTPS connection (1): api.mlflow-telemetry.io:443]\n",
      "[2025-10-10 18:00:26,090: DEBUG: connectionpool: https://api.mlflow-telemetry.io:443 \"POST /log HTTP/1.1\" 429 31]\n",
      "[2025-10-10 18:00:27,096: DEBUG: connectionpool: Starting new HTTPS connection (1): api.mlflow-telemetry.io:443]\n"
     ]
    }
   ],
   "source": [
    "import pandas as pd\n",
    "import numpy as np\n",
    "import mlflow\n",
    "import mlflow.sklearn\n",
    "import logging\n",
    "from sklearn.linear_model import LinearRegression,Ridge,Lasso\n",
    "from sklearn.ensemble import RandomForestRegressor,GradientBoostingRegressor\n",
    "from sklearn.svm import SVR\n",
    "from xgboost import XGBRegressor\n",
    "from sklearn.metrics import r2_score,mean_squared_error\n",
    "from helpers.config import load_config\n",
    "from helpers.logger import logger\n",
    "\n",
    "\n",
    "class ModelTrainer:\n",
    "    def __init__(self,config):\n",
    "        self.config = config\n",
    "        \n",
    "    def fetch_data(self):\n",
    "        \"\"\"Training and testing processed data\"\"\"\n",
    "        try:\n",
    "            # training and testing scaled path\n",
    "            df_train_scaled = pd.read_csv(self.config['train_processed'],delimiter=\",\")\n",
    "            df_test_scaled = pd.read_csv(self.config['test_processed'],delimiter=\",\")\n",
    "            #target variable for y\n",
    "            y_train_df = pd.read_csv(self.config['train_target_raw'],delimiter=\",\")\n",
    "            y_test_df = pd.read_csv(self.config['test_target_raw'],delimiter=\",\")\n",
    "            return df_train_scaled,df_test_scaled,y_train_df,y_test_df\n",
    "        except Exception as e:\n",
    "            logger.exception(f'Could not load data: {e}')\n",
    "            raise\n",
    "        \n",
    "    def load_models(self):\n",
    "        \"\"\"models from training and test data\"\"\"\n",
    "        try:\n",
    "            models = {\n",
    "                \"Linear Regression\":LinearRegression(),\n",
    "                \"Ridge Regressor\":Ridge(),\n",
    "                \"Lasso Regressor\": Lasso(),\n",
    "                \"Random Forest Regressor\": RandomForestRegressor(),\n",
    "                \"XGB Regressor\": XGBRegressor(),\n",
    "                \"SVM Regressor\":SVR(),\n",
    "                \"Gradient Boosting Regressor\":GradientBoostingRegressor()\n",
    "            }\n",
    "            return models\n",
    "        except Exception as e:\n",
    "            logger.exception(f\"error loading models\")\n",
    "            raise\n",
    "        \n",
    "\n",
    "        \n",
    "    def log_into_mlflow(self):\n",
    "        \"\"\"Log results into mlflow\"\"\"\n",
    "        mlflow.set_experiment(\"utils pipeline\")\n",
    "        models = self.load_models()\n",
    "        \n",
    "        # load in data\n",
    "        df_train_scaled = pd.read_csv(self.config['train_processed'],delimiter=\",\")\n",
    "        df_test_scaled = pd.read_csv(self.config['test_processed'],delimiter=\",\")\n",
    "        y_train_df = pd.read_csv(self.config['train_target_raw'],delimiter=\",\")\n",
    "        y_test_df = pd.read_csv(self.config['test_target_raw'],delimiter=\",\")\n",
    "        with mlflow.start_run():\n",
    "            for model_name,model in models.items():\n",
    "                model.fit(df_train_scaled,y_train_df)\n",
    "                pred = model.predict(df_test_scaled)\n",
    "                r2 = r2_score(y_test_df,pred)\n",
    "                mse = mean_squared_error(y_test_df,pred)\n",
    "                print(f'Model Name: {model_name}')\n",
    "                print(f'R2 Score: {r2*100:.2f}')\n",
    "                print(f'Mean Squared Error: {mse:.4f}')\n",
    "                mlflow.log_metric(\"train score\",model.score(df_train_scaled,y_train_df))\n",
    "                mlflow.log_metric(\"test score\",model.score(df_test_scaled,y_test_df))\n",
    "                mlflow.log_metric(\"r2 score\",r2)\n",
    "                mlflow.log_metric(\"mean squared error score\",mse)\n",
    "                mlflow.sklearn.log_model(\"model name\",model_name)\n",
    "                \n",
    "                \n",
    "\n",
    "    \n",
    "                \n",
    "                \n",
    "            \n",
    "if __name__ == \"__main__\":\n",
    "    config = load_config()\n",
    "    model_trainer_config = ModelTrainer(config)\n",
    "    model_trainer_config.fetch_data()\n",
    "    model_trainer_config.load_models()\n",
    "    model_trainer_config.log_into_mlflow()\n"
   ]
  }
 ],
 "metadata": {
  "kernelspec": {
   "display_name": "venv (3.12.3)",
   "language": "python",
   "name": "python3"
  },
  "language_info": {
   "codemirror_mode": {
    "name": "ipython",
    "version": 3
   },
   "file_extension": ".py",
   "mimetype": "text/x-python",
   "name": "python",
   "nbconvert_exporter": "python",
   "pygments_lexer": "ipython3",
   "version": "3.12.3"
  }
 },
 "nbformat": 4,
 "nbformat_minor": 5
}
