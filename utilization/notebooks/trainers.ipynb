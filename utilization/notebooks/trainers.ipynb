{
 "cells": [
  {
   "cell_type": "code",
   "execution_count": 1,
   "id": "3250fccf",
   "metadata": {},
   "outputs": [
    {
     "name": "stderr",
     "output_type": "stream",
     "text": [
      "2025/10/05 19:36:56 WARNING mlflow.models.model: `artifact_path` is deprecated. Please use `name` instead.\n",
      "2025/10/05 19:36:56 WARNING mlflow.sklearn: Model was missing function: predict. Not logging python_function flavor!\n"
     ]
    },
    {
     "name": "stdout",
     "output_type": "stream",
     "text": [
      "Model Name: Linear Regression\n",
      "R2 Score: 77.77\n",
      "Mean Squared Error: 0.0565\n"
     ]
    },
    {
     "name": "stderr",
     "output_type": "stream",
     "text": [
      "\u001b[31m2025/10/05 19:36:58 WARNING mlflow.models.model: Model logged without a signature and input example. Please set `input_example` parameter when logging the model to auto infer the model signature.\u001b[0m\n",
      "2025/10/05 19:36:58 WARNING mlflow.models.model: `artifact_path` is deprecated. Please use `name` instead.\n",
      "2025/10/05 19:36:58 WARNING mlflow.sklearn: Model was missing function: predict. Not logging python_function flavor!\n"
     ]
    },
    {
     "name": "stdout",
     "output_type": "stream",
     "text": [
      "Model Name: Ridge Regressor\n",
      "R2 Score: 77.78\n",
      "Mean Squared Error: 0.0565\n"
     ]
    },
    {
     "name": "stderr",
     "output_type": "stream",
     "text": [
      "\u001b[31m2025/10/05 19:36:59 WARNING mlflow.models.model: Model logged without a signature and input example. Please set `input_example` parameter when logging the model to auto infer the model signature.\u001b[0m\n",
      "2025/10/05 19:36:59 WARNING mlflow.models.model: `artifact_path` is deprecated. Please use `name` instead.\n",
      "2025/10/05 19:36:59 WARNING mlflow.sklearn: Model was missing function: predict. Not logging python_function flavor!\n"
     ]
    },
    {
     "name": "stdout",
     "output_type": "stream",
     "text": [
      "Model Name: Lasso Regressor\n",
      "R2 Score: -6.07\n",
      "Mean Squared Error: 0.2697\n"
     ]
    },
    {
     "name": "stderr",
     "output_type": "stream",
     "text": [
      "\u001b[31m2025/10/05 19:37:01 WARNING mlflow.models.model: Model logged without a signature and input example. Please set `input_example` parameter when logging the model to auto infer the model signature.\u001b[0m\n",
      "/home/nickkats1/sklearn_only/utilization/venv/lib/python3.12/site-packages/sklearn/base.py:1365: DataConversionWarning: A column-vector y was passed when a 1d array was expected. Please change the shape of y to (n_samples,), for example using ravel().\n",
      "  return fit_method(estimator, *args, **kwargs)\n",
      "2025/10/05 19:37:01 WARNING mlflow.models.model: `artifact_path` is deprecated. Please use `name` instead.\n",
      "2025/10/05 19:37:01 WARNING mlflow.sklearn: Model was missing function: predict. Not logging python_function flavor!\n"
     ]
    },
    {
     "name": "stdout",
     "output_type": "stream",
     "text": [
      "Model Name: Random Forest Regressor\n",
      "R2 Score: 98.97\n",
      "Mean Squared Error: 0.0026\n"
     ]
    },
    {
     "name": "stderr",
     "output_type": "stream",
     "text": [
      "\u001b[31m2025/10/05 19:37:02 WARNING mlflow.models.model: Model logged without a signature and input example. Please set `input_example` parameter when logging the model to auto infer the model signature.\u001b[0m\n",
      "2025/10/05 19:37:02 WARNING mlflow.models.model: `artifact_path` is deprecated. Please use `name` instead.\n",
      "2025/10/05 19:37:02 WARNING mlflow.sklearn: Model was missing function: predict. Not logging python_function flavor!\n"
     ]
    },
    {
     "name": "stdout",
     "output_type": "stream",
     "text": [
      "Model Name: XGB Regressor\n",
      "R2 Score: 98.48\n",
      "Mean Squared Error: 0.0039\n"
     ]
    },
    {
     "name": "stderr",
     "output_type": "stream",
     "text": [
      "\u001b[31m2025/10/05 19:37:03 WARNING mlflow.models.model: Model logged without a signature and input example. Please set `input_example` parameter when logging the model to auto infer the model signature.\u001b[0m\n",
      "/home/nickkats1/sklearn_only/utilization/venv/lib/python3.12/site-packages/sklearn/utils/validation.py:1406: DataConversionWarning: A column-vector y was passed when a 1d array was expected. Please change the shape of y to (n_samples, ), for example using ravel().\n",
      "  y = column_or_1d(y, warn=True)\n",
      "2025/10/05 19:37:04 WARNING mlflow.models.model: `artifact_path` is deprecated. Please use `name` instead.\n",
      "2025/10/05 19:37:04 WARNING mlflow.sklearn: Model was missing function: predict. Not logging python_function flavor!\n"
     ]
    },
    {
     "name": "stdout",
     "output_type": "stream",
     "text": [
      "Model Name: SVM Regressor\n",
      "R2 Score: 87.97\n",
      "Mean Squared Error: 0.0306\n"
     ]
    },
    {
     "name": "stderr",
     "output_type": "stream",
     "text": [
      "\u001b[31m2025/10/05 19:37:05 WARNING mlflow.models.model: Model logged without a signature and input example. Please set `input_example` parameter when logging the model to auto infer the model signature.\u001b[0m\n",
      "/home/nickkats1/sklearn_only/utilization/venv/lib/python3.12/site-packages/sklearn/ensemble/_gb.py:672: DataConversionWarning: A column-vector y was passed when a 1d array was expected. Please change the shape of y to (n_samples, ), for example using ravel().\n",
      "  y = column_or_1d(y, warn=True)  # TODO: Is this still required?\n",
      "2025/10/05 19:37:05 WARNING mlflow.models.model: `artifact_path` is deprecated. Please use `name` instead.\n",
      "2025/10/05 19:37:05 WARNING mlflow.sklearn: Model was missing function: predict. Not logging python_function flavor!\n"
     ]
    },
    {
     "name": "stdout",
     "output_type": "stream",
     "text": [
      "Model Name: Gradient Boosting Regressor\n",
      "R2 Score: 98.69\n",
      "Mean Squared Error: 0.0033\n"
     ]
    },
    {
     "name": "stderr",
     "output_type": "stream",
     "text": [
      "\u001b[31m2025/10/05 19:37:06 WARNING mlflow.models.model: Model logged without a signature and input example. Please set `input_example` parameter when logging the model to auto infer the model signature.\u001b[0m\n"
     ]
    }
   ],
   "source": [
    "import pandas as pd\n",
    "import numpy as np\n",
    "import mlflow\n",
    "import mlflow.sklearn\n",
    "import numpy as np\n",
    "import logging\n",
    "from sklearn.linear_model import LinearRegression,Ridge,Lasso\n",
    "from sklearn.ensemble import RandomForestRegressor,GradientBoostingRegressor\n",
    "from sklearn.svm import SVR\n",
    "from xgboost import XGBRegressor\n",
    "from sklearn.metrics import r2_score,mean_squared_error\n",
    "from utils.config import load_config\n",
    "\n",
    "logger = logging.getLogger(__name__)\n",
    "\n",
    "class ModelTrainer:\n",
    "    def __init__(self,config):\n",
    "        self.config = config\n",
    "        \n",
    "    def fetch_data(self):\n",
    "        \"\"\"Training and testing processed data\"\"\"\n",
    "        try:\n",
    "            # training and testing scaled path\n",
    "            self.df_train_scaled = pd.read_csv(self.config['train_processed'],delimiter=\",\")\n",
    "            self.df_test_scaled = pd.read_csv(self.config['test_processed'],delimiter=\",\")\n",
    "            #target variable for y\n",
    "            self.y_train_df = pd.read_csv(self.config['train_target_raw'],delimiter=\",\")\n",
    "            self.y_test_df = pd.read_csv(self.config['test_target_raw'],delimiter=\",\")\n",
    "            return self.df_train_scaled,self.df_test_scaled,self.y_train_df,self.y_test_df\n",
    "        except Exception as e:\n",
    "            logger.exception(f'Could not load data: {e}')\n",
    "            raise\n",
    "        \n",
    "    def load_models(self):\n",
    "        \"\"\"models from training and test data\"\"\"\n",
    "        try:\n",
    "            self.models = {\n",
    "                \"Linear Regression\":LinearRegression(),\n",
    "                \"Ridge Regressor\":Ridge(),\n",
    "                \"Lasso Regressor\": Lasso(),\n",
    "                \"Random Forest Regressor\": RandomForestRegressor(),\n",
    "                \"XGB Regressor\": XGBRegressor(),\n",
    "                \"SVM Regressor\":SVR(),\n",
    "                \"Gradient Boosting Regressor\":GradientBoostingRegressor()\n",
    "            }\n",
    "            return self.models\n",
    "        except Exception as e:\n",
    "            logger.exception(f\"error loading models\")\n",
    "            raise\n",
    "        \n",
    "\n",
    "        \n",
    "    def log_into_mlflow(self):\n",
    "        \"\"\"Log results into mlflow\"\"\"\n",
    "        mlflow.set_experiment(\"utils pipeline\")\n",
    "        with mlflow.start_run():\n",
    "            for model_name,model in self.models.items():\n",
    "                model.fit(self.df_train_scaled,self.y_train_df)\n",
    "                self.pred = model.predict(self.df_test_scaled)\n",
    "                self.r2 = r2_score(self.y_test_df,self.pred)\n",
    "                self.mse = mean_squared_error(self.y_test_df,self.pred)\n",
    "                print(f'Model Name: {model_name}')\n",
    "                print(f'R2 Score: {self.r2*100:.2f}')\n",
    "                print(f'Mean Squared Error: {self.mse:.4f}')\n",
    "                mlflow.log_metric(\"train score\",model.score(self.df_train_scaled,self.y_train_df))\n",
    "                mlflow.log_metric(\"test score\",model.score(self.df_test_scaled,self.y_test_df))\n",
    "                mlflow.log_metric(\"r2 score\",self.r2)\n",
    "                mlflow.log_metric(\"mean squared error score\",self.mse)\n",
    "                mlflow.sklearn.log_model(\"model name\",model_name)\n",
    "                \n",
    "                \n",
    "\n",
    "    \n",
    "                \n",
    "                \n",
    "            \n",
    "if __name__ == \"__main__\":\n",
    "    config = load_config()\n",
    "    model_trainer_config = ModelTrainer(config)\n",
    "    model_trainer_config.fetch_data()\n",
    "    model_trainer_config.load_models()\n",
    "    model_trainer_config.log_into_mlflow()\n"
   ]
  },
  {
   "cell_type": "code",
   "execution_count": 2,
   "id": "e52e5729",
   "metadata": {},
   "outputs": [
    {
     "name": "stderr",
     "output_type": "stream",
     "text": [
      "/home/nickkats1/sklearn_only/utilization/venv/lib/python3.12/site-packages/sklearn/ensemble/_gb.py:672: DataConversionWarning: A column-vector y was passed when a 1d array was expected. Please change the shape of y to (n_samples, ), for example using ravel().\n",
      "  y = column_or_1d(y, warn=True)  # TODO: Is this still required?\n"
     ]
    },
    {
     "name": "stdout",
     "output_type": "stream",
     "text": [
      "R2 score of best model: 99.16%\n",
      "MSE Best Model: 0.0021\n"
     ]
    }
   ],
   "source": [
    "df_train_scaled = pd.read_csv(\"data/processed/train.csv\",delimiter=\",\")\n",
    "df_test_scaled = pd.read_csv(config['test_processed'],delimiter=\",\")\n",
    "y_train_df = pd.read_csv(config['train_target_raw'],delimiter=\",\")\n",
    "y_test_df = pd.read_csv(config['test_target_raw'],delimiter=\",\")\n",
    "\n",
    "best_model = GradientBoostingRegressor(learning_rate=0.1,max_depth=4,min_samples_split=10,n_estimators=200)\n",
    "best_model.fit(df_train_scaled,y_train_df)\n",
    "pred = best_model.predict(df_test_scaled)\n",
    "r2 = r2_score(y_test_df,pred)\n",
    "print(f'R2 score of best model: {r2*100:.2f}%')\n",
    "mse = mean_squared_error(y_test_df,pred)\n",
    "print(f'MSE Best Model: {mse:.4f}')\n"
   ]
  }
 ],
 "metadata": {
  "kernelspec": {
   "display_name": "venv",
   "language": "python",
   "name": "python3"
  },
  "language_info": {
   "codemirror_mode": {
    "name": "ipython",
    "version": 3
   },
   "file_extension": ".py",
   "mimetype": "text/x-python",
   "name": "python",
   "nbconvert_exporter": "python",
   "pygments_lexer": "ipython3",
   "version": "3.12.3"
  }
 },
 "nbformat": 4,
 "nbformat_minor": 5
}
